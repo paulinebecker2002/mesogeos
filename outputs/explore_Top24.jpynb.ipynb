{
 "cells": [
  {
   "cell_type": "code",
   "id": "initial_id",
   "metadata": {
    "collapsed": true,
    "ExecuteTime": {
     "end_time": "2025-05-19T15:54:01.212811Z",
     "start_time": "2025-05-19T15:53:59.220963Z"
    }
   },
   "source": [
    "import pandas as pd\n",
    "import numpy as np"
   ],
   "outputs": [],
   "execution_count": 1
  },
  {
   "metadata": {
    "ExecuteTime": {
     "end_time": "2025-05-19T15:54:18.591124Z",
     "start_time": "2025-05-19T15:54:18.576042Z"
    }
   },
   "cell_type": "code",
   "source": "top24 = pd.read_csv('./Top_24_Summed_Variables.csv')",
   "id": "4a350c4d38f06df4",
   "outputs": [],
   "execution_count": 2
  },
  {
   "metadata": {
    "ExecuteTime": {
     "end_time": "2025-05-19T15:54:23.278010Z",
     "start_time": "2025-05-19T15:54:23.265027Z"
    }
   },
   "cell_type": "code",
   "source": "top24.head()",
   "id": "46d1f1b063dc0715",
   "outputs": [
    {
     "data": {
      "text/plain": [
       "    Variable  Total_Importance\n",
       "0  lst_night            0.1661\n",
       "1        t2m            0.1361\n",
       "2    lst_day            0.0714\n",
       "3       ndvi            0.0686\n",
       "4        smi            0.0659"
      ],
      "text/html": [
       "<div>\n",
       "<style scoped>\n",
       "    .dataframe tbody tr th:only-of-type {\n",
       "        vertical-align: middle;\n",
       "    }\n",
       "\n",
       "    .dataframe tbody tr th {\n",
       "        vertical-align: top;\n",
       "    }\n",
       "\n",
       "    .dataframe thead th {\n",
       "        text-align: right;\n",
       "    }\n",
       "</style>\n",
       "<table border=\"1\" class=\"dataframe\">\n",
       "  <thead>\n",
       "    <tr style=\"text-align: right;\">\n",
       "      <th></th>\n",
       "      <th>Variable</th>\n",
       "      <th>Total_Importance</th>\n",
       "    </tr>\n",
       "  </thead>\n",
       "  <tbody>\n",
       "    <tr>\n",
       "      <th>0</th>\n",
       "      <td>lst_night</td>\n",
       "      <td>0.1661</td>\n",
       "    </tr>\n",
       "    <tr>\n",
       "      <th>1</th>\n",
       "      <td>t2m</td>\n",
       "      <td>0.1361</td>\n",
       "    </tr>\n",
       "    <tr>\n",
       "      <th>2</th>\n",
       "      <td>lst_day</td>\n",
       "      <td>0.0714</td>\n",
       "    </tr>\n",
       "    <tr>\n",
       "      <th>3</th>\n",
       "      <td>ndvi</td>\n",
       "      <td>0.0686</td>\n",
       "    </tr>\n",
       "    <tr>\n",
       "      <th>4</th>\n",
       "      <td>smi</td>\n",
       "      <td>0.0659</td>\n",
       "    </tr>\n",
       "  </tbody>\n",
       "</table>\n",
       "</div>"
      ]
     },
     "execution_count": 3,
     "metadata": {},
     "output_type": "execute_result"
    }
   ],
   "execution_count": 3
  },
  {
   "metadata": {
    "ExecuteTime": {
     "end_time": "2025-05-19T16:12:03.483928Z",
     "start_time": "2025-05-19T16:12:03.470813Z"
    }
   },
   "cell_type": "code",
   "source": [
    "quartil = [0.1, 0.25, 0.5, 0.75, 0.95, 0.99]\n",
    "for q in quartil:\n",
    "    sum = 0\n",
    "    i = 0\n",
    "    while (sum + top24['Total_Importance'][i]) < q:\n",
    "        sum +=  top24['Total_Importance'][i]\n",
    "        i += 1\n",
    "    print(f\"{q*100}% der besten Feature durch {i} Features erreicht.\")\n",
    "\n",
    "for i in range(len(top24)):\n",
    "    print(f\"Variable {top24['Variable'][i]} hat eine Wichtigkeit von {top24['Total_Importance'][i]}\")\n"
   ],
   "id": "d8642b06dfe6ad9a",
   "outputs": [
    {
     "name": "stdout",
     "output_type": "stream",
     "text": [
      "10.0% der besten Feature durch 0 Features erreicht.\n",
      "25.0% der besten Feature durch 1 Features erreicht.\n",
      "50.0% der besten Feature durch 4 Features erreicht.\n",
      "75.0% der besten Feature durch 9 Features erreicht.\n",
      "95.0% der besten Feature durch 16 Features erreicht.\n",
      "99.0% der besten Feature durch 19 Features erreicht.\n",
      "Variable lst_night hat eine Wichtigkeit von 0.1661\n",
      "Variable t2m hat eine Wichtigkeit von 0.1361\n",
      "Variable lst_day hat eine Wichtigkeit von 0.0713999999999999\n",
      "Variable ndvi hat eine Wichtigkeit von 0.0686\n",
      "Variable smi hat eine Wichtigkeit von 0.0658999999999999\n",
      "Variable ssrd hat eine Wichtigkeit von 0.0581999999999999\n",
      "Variable tp hat eine Wichtigkeit von 0.0579999999999999\n",
      "Variable slope hat eine Wichtigkeit von 0.0562\n",
      "Variable rh hat eine Wichtigkeit von 0.0520999999999999\n",
      "Variable d2m hat eine Wichtigkeit von 0.0503999999999999\n",
      "Variable population hat eine Wichtigkeit von 0.0350999999999999\n",
      "Variable sp hat eine Wichtigkeit von 0.0329\n",
      "Variable wind_speed hat eine Wichtigkeit von 0.0311\n",
      "Variable lai hat eine Wichtigkeit von 0.0231999999999999\n",
      "Variable lc_forest hat eine Wichtigkeit von 0.0184\n",
      "Variable dem hat eine Wichtigkeit von 0.0159\n",
      "Variable lc_agriculture hat eine Wichtigkeit von 0.0156\n",
      "Variable roads_distance hat eine Wichtigkeit von 0.015\n",
      "Variable lc_shrubland hat eine Wichtigkeit von 0.015\n",
      "Variable lc_grassland hat eine Wichtigkeit von 0.0079999999999999\n",
      "Variable lc_sparse_vegetation hat eine Wichtigkeit von 0.0029999999999999\n",
      "Variable lc_wetland hat eine Wichtigkeit von 0.0017\n",
      "Variable lc_settlement hat eine Wichtigkeit von 0.0\n",
      "Variable lc_water_bodies hat eine Wichtigkeit von 0.0\n"
     ]
    }
   ],
   "execution_count": 17
  },
  {
   "metadata": {},
   "cell_type": "code",
   "outputs": [],
   "execution_count": null,
   "source": "",
   "id": "3879acb425792e50"
  }
 ],
 "metadata": {
  "kernelspec": {
   "display_name": "Python 3",
   "language": "python",
   "name": "python3"
  },
  "language_info": {
   "codemirror_mode": {
    "name": "ipython",
    "version": 2
   },
   "file_extension": ".py",
   "mimetype": "text/x-python",
   "name": "python",
   "nbconvert_exporter": "python",
   "pygments_lexer": "ipython2",
   "version": "2.7.6"
  }
 },
 "nbformat": 4,
 "nbformat_minor": 5
}
