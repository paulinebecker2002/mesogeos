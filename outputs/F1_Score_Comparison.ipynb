{
 "cells": [
  {
   "cell_type": "markdown",
   "id": "474178bc",
   "metadata": {},
   "source": [
    "# Modellvergleich basierend auf dem $F_1$-Score\n",
    "Dieses Notebook lädt die Metrikdaten aus einer CSV-Datei und visualisiert die F1-Scores der Testdaten als Balkendiagramm."
   ]
  },
  {
   "cell_type": "code",
   "id": "d90e9625",
   "metadata": {
    "ExecuteTime": {
     "end_time": "2025-06-23T07:15:11.380931Z",
     "start_time": "2025-06-23T07:15:11.365425Z"
    }
   },
   "source": [
    "import pandas as pd\n",
    "import matplotlib.pyplot as plt\n",
    "import numpy as np\n"
   ],
   "outputs": [],
   "execution_count": 10
  },
  {
   "cell_type": "code",
   "id": "c438a119",
   "metadata": {
    "ExecuteTime": {
     "end_time": "2025-06-23T07:43:07.173587Z",
     "start_time": "2025-06-23T07:43:07.166745Z"
    }
   },
   "source": [
    "# CSV-Datei einlesen (angepasst auf Semikolon als Trennzeichen)\n",
    "df = pd.read_csv(\"/Users/I566184/bachelorarbeit_coding/mesogeos/csv/ML_Metrics_scores.csv\", sep=\";\") #change to semicolon if needed\n",
    "df.head()\n",
    "score = \"F1_Training\"  # Der Score, der für die Visualisierung verwendet wird"
   ],
   "outputs": [],
   "execution_count": 69
  },
  {
   "metadata": {
    "ExecuteTime": {
     "end_time": "2025-06-23T07:43:08.818806Z",
     "start_time": "2025-06-23T07:43:08.812184Z"
    }
   },
   "cell_type": "code",
   "source": "df",
   "id": "eddbb8e3c135fc80",
   "outputs": [
    {
     "data": {
      "text/plain": [
       "                          Model Abbreviations  F1_Training  F1_Validation  \\\n",
       "0                   Transformer   Transformer     0.842722       0.822985   \n",
       "1     Gated Transformer Network           GTN     0.840195       0.828194   \n",
       "2  Temporal Fusion Transformer            TFT     0.826010       0.804984   \n",
       "3         Multilayer Perceptron           MLP     0.854728       0.817301   \n",
       "4        Long Short-term Memory          LSTM     0.843391       0.825537   \n",
       "5          Gated Recurrent Unit           GRU     0.827320       0.819277   \n",
       "6  Convolutional Neural Network           CNN     0.828174       0.801762   \n",
       "7                 Random Forest            RF     0.983254       0.764238   \n",
       "\n",
       "   F1_Testing  Recall_Validation  Recall_Testing  Precision_Validation  \\\n",
       "0    0.792131           0.826260        0.779401              0.819737   \n",
       "1    0.787686           0.872679        0.813002              0.788024   \n",
       "2    0.789858           0.856764        0.830533              0.759107   \n",
       "3    0.773324           0.839523        0.775018              0.796226   \n",
       "4    0.775874           0.866048        0.794010              0.788647   \n",
       "5    0.776912           0.856764        0.801315              0.784933   \n",
       "6    0.769877           0.844828        0.802776              0.762874   \n",
       "7    0.722791           0.765252        0.696129              0.763228   \n",
       "\n",
       "   Precision_Testing  AUCPR_Training  AUCPR_Validation  AUCPR_Testing  \n",
       "0           0.805283        0.916061          0.900533       0.875865  \n",
       "1           0.763898        0.915860          0.902716       0.860134  \n",
       "2           0.752980        0.898421          0.889227       0.868479  \n",
       "3           0.771636        0.930467          0.886864       0.856658  \n",
       "4           0.758548        0.910365          0.891072       0.853859  \n",
       "5           0.753952        0.902882          0.888269       0.846301  \n",
       "6           0.739569        0.905157          0.867831       0.837575  \n",
       "7           0.751577        0.999001          0.854303       0.809714  "
      ],
      "text/html": [
       "<div>\n",
       "<style scoped>\n",
       "    .dataframe tbody tr th:only-of-type {\n",
       "        vertical-align: middle;\n",
       "    }\n",
       "\n",
       "    .dataframe tbody tr th {\n",
       "        vertical-align: top;\n",
       "    }\n",
       "\n",
       "    .dataframe thead th {\n",
       "        text-align: right;\n",
       "    }\n",
       "</style>\n",
       "<table border=\"1\" class=\"dataframe\">\n",
       "  <thead>\n",
       "    <tr style=\"text-align: right;\">\n",
       "      <th></th>\n",
       "      <th>Model</th>\n",
       "      <th>Abbreviations</th>\n",
       "      <th>F1_Training</th>\n",
       "      <th>F1_Validation</th>\n",
       "      <th>F1_Testing</th>\n",
       "      <th>Recall_Validation</th>\n",
       "      <th>Recall_Testing</th>\n",
       "      <th>Precision_Validation</th>\n",
       "      <th>Precision_Testing</th>\n",
       "      <th>AUCPR_Training</th>\n",
       "      <th>AUCPR_Validation</th>\n",
       "      <th>AUCPR_Testing</th>\n",
       "    </tr>\n",
       "  </thead>\n",
       "  <tbody>\n",
       "    <tr>\n",
       "      <th>0</th>\n",
       "      <td>Transformer</td>\n",
       "      <td>Transformer</td>\n",
       "      <td>0.842722</td>\n",
       "      <td>0.822985</td>\n",
       "      <td>0.792131</td>\n",
       "      <td>0.826260</td>\n",
       "      <td>0.779401</td>\n",
       "      <td>0.819737</td>\n",
       "      <td>0.805283</td>\n",
       "      <td>0.916061</td>\n",
       "      <td>0.900533</td>\n",
       "      <td>0.875865</td>\n",
       "    </tr>\n",
       "    <tr>\n",
       "      <th>1</th>\n",
       "      <td>Gated Transformer Network</td>\n",
       "      <td>GTN</td>\n",
       "      <td>0.840195</td>\n",
       "      <td>0.828194</td>\n",
       "      <td>0.787686</td>\n",
       "      <td>0.872679</td>\n",
       "      <td>0.813002</td>\n",
       "      <td>0.788024</td>\n",
       "      <td>0.763898</td>\n",
       "      <td>0.915860</td>\n",
       "      <td>0.902716</td>\n",
       "      <td>0.860134</td>\n",
       "    </tr>\n",
       "    <tr>\n",
       "      <th>2</th>\n",
       "      <td>Temporal Fusion Transformer</td>\n",
       "      <td>TFT</td>\n",
       "      <td>0.826010</td>\n",
       "      <td>0.804984</td>\n",
       "      <td>0.789858</td>\n",
       "      <td>0.856764</td>\n",
       "      <td>0.830533</td>\n",
       "      <td>0.759107</td>\n",
       "      <td>0.752980</td>\n",
       "      <td>0.898421</td>\n",
       "      <td>0.889227</td>\n",
       "      <td>0.868479</td>\n",
       "    </tr>\n",
       "    <tr>\n",
       "      <th>3</th>\n",
       "      <td>Multilayer Perceptron</td>\n",
       "      <td>MLP</td>\n",
       "      <td>0.854728</td>\n",
       "      <td>0.817301</td>\n",
       "      <td>0.773324</td>\n",
       "      <td>0.839523</td>\n",
       "      <td>0.775018</td>\n",
       "      <td>0.796226</td>\n",
       "      <td>0.771636</td>\n",
       "      <td>0.930467</td>\n",
       "      <td>0.886864</td>\n",
       "      <td>0.856658</td>\n",
       "    </tr>\n",
       "    <tr>\n",
       "      <th>4</th>\n",
       "      <td>Long Short-term Memory</td>\n",
       "      <td>LSTM</td>\n",
       "      <td>0.843391</td>\n",
       "      <td>0.825537</td>\n",
       "      <td>0.775874</td>\n",
       "      <td>0.866048</td>\n",
       "      <td>0.794010</td>\n",
       "      <td>0.788647</td>\n",
       "      <td>0.758548</td>\n",
       "      <td>0.910365</td>\n",
       "      <td>0.891072</td>\n",
       "      <td>0.853859</td>\n",
       "    </tr>\n",
       "    <tr>\n",
       "      <th>5</th>\n",
       "      <td>Gated Recurrent Unit</td>\n",
       "      <td>GRU</td>\n",
       "      <td>0.827320</td>\n",
       "      <td>0.819277</td>\n",
       "      <td>0.776912</td>\n",
       "      <td>0.856764</td>\n",
       "      <td>0.801315</td>\n",
       "      <td>0.784933</td>\n",
       "      <td>0.753952</td>\n",
       "      <td>0.902882</td>\n",
       "      <td>0.888269</td>\n",
       "      <td>0.846301</td>\n",
       "    </tr>\n",
       "    <tr>\n",
       "      <th>6</th>\n",
       "      <td>Convolutional Neural Network</td>\n",
       "      <td>CNN</td>\n",
       "      <td>0.828174</td>\n",
       "      <td>0.801762</td>\n",
       "      <td>0.769877</td>\n",
       "      <td>0.844828</td>\n",
       "      <td>0.802776</td>\n",
       "      <td>0.762874</td>\n",
       "      <td>0.739569</td>\n",
       "      <td>0.905157</td>\n",
       "      <td>0.867831</td>\n",
       "      <td>0.837575</td>\n",
       "    </tr>\n",
       "    <tr>\n",
       "      <th>7</th>\n",
       "      <td>Random Forest</td>\n",
       "      <td>RF</td>\n",
       "      <td>0.983254</td>\n",
       "      <td>0.764238</td>\n",
       "      <td>0.722791</td>\n",
       "      <td>0.765252</td>\n",
       "      <td>0.696129</td>\n",
       "      <td>0.763228</td>\n",
       "      <td>0.751577</td>\n",
       "      <td>0.999001</td>\n",
       "      <td>0.854303</td>\n",
       "      <td>0.809714</td>\n",
       "    </tr>\n",
       "  </tbody>\n",
       "</table>\n",
       "</div>"
      ]
     },
     "execution_count": 70,
     "metadata": {},
     "output_type": "execute_result"
    }
   ],
   "execution_count": 70
  },
  {
   "cell_type": "code",
   "id": "708cb793",
   "metadata": {
    "ExecuteTime": {
     "end_time": "2025-06-23T07:43:25.099798Z",
     "start_time": "2025-06-23T07:43:25.093030Z"
    }
   },
   "source": [
    "f1_df = df[[\"Abbreviations\", score, \"F1_Testing\"]].copy()\n",
    "f1_df = f1_df.sort_values(by='F1_Testing', ascending=True)  # 🔁 aufsteigend sortieren\n",
    "f1_df"
   ],
   "outputs": [
    {
     "data": {
      "text/plain": [
       "  Abbreviations  F1_Training  F1_Testing\n",
       "7            RF     0.983254    0.722791\n",
       "6           CNN     0.828174    0.769877\n",
       "3           MLP     0.854728    0.773324\n",
       "4          LSTM     0.843391    0.775874\n",
       "5           GRU     0.827320    0.776912\n",
       "1           GTN     0.840195    0.787686\n",
       "2           TFT     0.826010    0.789858\n",
       "0   Transformer     0.842722    0.792131"
      ],
      "text/html": [
       "<div>\n",
       "<style scoped>\n",
       "    .dataframe tbody tr th:only-of-type {\n",
       "        vertical-align: middle;\n",
       "    }\n",
       "\n",
       "    .dataframe tbody tr th {\n",
       "        vertical-align: top;\n",
       "    }\n",
       "\n",
       "    .dataframe thead th {\n",
       "        text-align: right;\n",
       "    }\n",
       "</style>\n",
       "<table border=\"1\" class=\"dataframe\">\n",
       "  <thead>\n",
       "    <tr style=\"text-align: right;\">\n",
       "      <th></th>\n",
       "      <th>Abbreviations</th>\n",
       "      <th>F1_Training</th>\n",
       "      <th>F1_Testing</th>\n",
       "    </tr>\n",
       "  </thead>\n",
       "  <tbody>\n",
       "    <tr>\n",
       "      <th>7</th>\n",
       "      <td>RF</td>\n",
       "      <td>0.983254</td>\n",
       "      <td>0.722791</td>\n",
       "    </tr>\n",
       "    <tr>\n",
       "      <th>6</th>\n",
       "      <td>CNN</td>\n",
       "      <td>0.828174</td>\n",
       "      <td>0.769877</td>\n",
       "    </tr>\n",
       "    <tr>\n",
       "      <th>3</th>\n",
       "      <td>MLP</td>\n",
       "      <td>0.854728</td>\n",
       "      <td>0.773324</td>\n",
       "    </tr>\n",
       "    <tr>\n",
       "      <th>4</th>\n",
       "      <td>LSTM</td>\n",
       "      <td>0.843391</td>\n",
       "      <td>0.775874</td>\n",
       "    </tr>\n",
       "    <tr>\n",
       "      <th>5</th>\n",
       "      <td>GRU</td>\n",
       "      <td>0.827320</td>\n",
       "      <td>0.776912</td>\n",
       "    </tr>\n",
       "    <tr>\n",
       "      <th>1</th>\n",
       "      <td>GTN</td>\n",
       "      <td>0.840195</td>\n",
       "      <td>0.787686</td>\n",
       "    </tr>\n",
       "    <tr>\n",
       "      <th>2</th>\n",
       "      <td>TFT</td>\n",
       "      <td>0.826010</td>\n",
       "      <td>0.789858</td>\n",
       "    </tr>\n",
       "    <tr>\n",
       "      <th>0</th>\n",
       "      <td>Transformer</td>\n",
       "      <td>0.842722</td>\n",
       "      <td>0.792131</td>\n",
       "    </tr>\n",
       "  </tbody>\n",
       "</table>\n",
       "</div>"
      ]
     },
     "execution_count": 71,
     "metadata": {},
     "output_type": "execute_result"
    }
   ],
   "execution_count": 71
  },
  {
   "cell_type": "code",
   "id": "0222c029",
   "metadata": {
    "ExecuteTime": {
     "end_time": "2025-06-23T07:44:00.828642Z",
     "start_time": "2025-06-23T07:44:00.750875Z"
    }
   },
   "source": [
    "plt.figure(figsize=(10, 6))\n",
    "bars = plt.bar(f1_df[\"Abbreviations\"], f1_df[score], color=plt.cm.Set2.colors) #plt.cm.Pastel1.colors\n",
    "\n",
    "plt.ylabel(\"$F_1$-score\", fontsize=14)\n",
    "plt.xticks(rotation=45, ha=\"right\", fontsize=10)\n",
    "plt.yticks(fontsize=12)\n",
    "plt.ylim(0.7, 1.00) #adapt the y-axis limits as needed\n",
    "plt.title(\"$F_1$-Score on Training Data\", fontsize=14)\n",
    "plt.tight_layout()\n",
    "plt.show()\n"
   ],
   "outputs": [
    {
     "data": {
      "text/plain": [
       "<Figure size 1000x600 with 1 Axes>"
      ],
      "image/png": "[encoded data removed]"
     },
     "metadata": {},
     "output_type": "display_data"
    }
   ],
   "execution_count": 73
  },
  {
   "metadata": {
    "ExecuteTime": {
     "end_time": "2025-06-23T07:37:06.474570Z",
     "start_time": "2025-06-23T07:37:06.355986Z"
    }
   },
   "cell_type": "code",
   "source": [
    "def plot_f1_score_points(df, model_col=\"Abbreviations\"):\n",
    "    df = df.sort_values(by='F1_Testing', ascending=True).reset_index(drop=True)\n",
    "    base_colors = plt.cm.Set2.colors  #plt.cm.Pastel1.colors\n",
    "    n_models = len(df)\n",
    "    base_colors = base_colors[:n_models]\n",
    "\n",
    "    fig, ax = plt.subplots(figsize=(10, 6))\n",
    "\n",
    "    for i, (_, row) in enumerate(df.iterrows()):\n",
    "        x = i\n",
    "        scores = [row[\"F1_Training\"], row[\"F1_Validation\"], row[\"F1_Testing\"]]\n",
    "        color = base_colors[i]\n",
    "\n",
    "        # Punkte für Training, Validation, Testing mit abgestufter Transparenz\n",
    "        ax.plot(x, scores[0], 'o', color=color, alpha=0.4, markersize=9, label=\"_nolegend_\")  # Training\n",
    "        ax.plot(x, scores[1], 'o', color=color, alpha=0.7, markersize=9, label=\"_nolegend_\")  # Validation\n",
    "        ax.plot(x, scores[2], 'o', color=color, alpha=1.0, markersize=9, label=\"_nolegend_\")  # Testing\n",
    "\n",
    "    ax.set_xticks(np.arange(n_models))\n",
    "    ax.set_xticklabels(df[model_col], rotation=45, ha=\"right\", fontsize=10)\n",
    "    ax.set_ylabel(\"$F_1$-score\", fontsize=14)\n",
    "    ax.set_ylim(0.7, 1.0)\n",
    "    ax.set_title(\"Cross Validated $F_1$ Scores for Training, Validation, and Testing\", fontsize=14)\n",
    "    ax.yaxis.set_tick_params(labelsize=12)\n",
    "    plt.tight_layout()\n",
    "    plt.show()\n",
    "\n",
    "# Anwendung\n",
    "plot_f1_score_points(df)"
   ],
   "id": "f958ff9c4e28ad25",
   "outputs": [
    {
     "data": {
      "text/plain": [
       "<Figure size 1000x600 with 1 Axes>"
      ],
      "image/png": "[encoded data removed]"
     },
     "metadata": {},
     "output_type": "display_data"
    }
   ],
   "execution_count": 51
  },
  {
   "metadata": {},
   "cell_type": "code",
   "outputs": [],
   "execution_count": null,
   "source": "",
   "id": "d0484e2e3d67912c"
  }
 ],
 "metadata": {
  "kernelspec": {
   "name": "python3",
   "language": "python",
   "display_name": "Python 3 (ipykernel)"
  }
 },
 "nbformat": 4,
 "nbformat_minor": 5
}
