{
 "cells": [
  {
   "cell_type": "code",
   "metadata": {
    "ExecuteTime": {
     "end_time": "2025-06-23T12:21:55.348738Z",
     "start_time": "2025-06-23T12:21:55.346547Z"
    }
   },
   "source": [
    "import pandas as pd\n",
    "import matplotlib.pyplot as plt\n",
    "import seaborn as sns\n",
    "import numpy as np\n",
    "import os\n"
   ],
   "outputs": [],
   "execution_count": 3
  },
  {
   "cell_type": "code",
   "metadata": {
    "ExecuteTime": {
     "end_time": "2025-06-23T12:22:33.771490Z",
     "start_time": "2025-06-23T12:22:33.741690Z"
    }
   },
   "source": [
    "df = pd.read_csv(\"/Users/I566184/bachelorarbeit_coding/mesogeos/csv/Physical_Interpretability_0.1.csv\", sep=\";\", index_col=0)\n",
    "df = df.loc[:, ~df.columns.str.contains(\"^Unnamed\")]\n",
    "df"
   ],
   "outputs": [
    {
     "data": {
      "text/plain": [
       "                      MLP  LSTM  GRU  RF  Transformer  GTN  TFT  CNN\n",
       "d2m                     0     1    1   0            1    0    0    0\n",
       "lc_agriculture          0     0    0   0            0    1    0    1\n",
       "lc_forest               0     0    0   1            1    1    1    1\n",
       "lc_grassland            1     1    1   1            1    1    1    1\n",
       "lc_settlement           1     0    0   1            0    0    0    0\n",
       "lc_shrubland            0     0    0   0            0    0    0    0\n",
       "lc_sparse_vegetation    0     0    0   1            0    0    0    0\n",
       "lc_water_bodies         0     1    1   1            1    1    1    0\n",
       "lc_wetland              0     0    0   0            0    0    0    0\n",
       "lst_day                 1     1    1   1            1    1    1    1\n",
       "lst_night               1     1    1   1            1    1    1    0\n",
       "rh                      1     0    0   1            1    1    1    1\n",
       "roads_distance          0     0    0   0            0    0    0    0\n",
       "slope                   1     1    1   1            1    1    1    1\n",
       "smi                     1     1    1   1            1    1    1    1\n",
       "ssrd                    0     1    1   1            1    1    1    1\n",
       "t2m                     1     1    1   1            1    1    1    1\n",
       "tp                      1     1    1   1            1    1    1    1\n",
       "wind_speed              0     0    0   0            0    0    0    0"
      ],
      "text/html": [
       "<div>\n",
       "<style scoped>\n",
       "    .dataframe tbody tr th:only-of-type {\n",
       "        vertical-align: middle;\n",
       "    }\n",
       "\n",
       "    .dataframe tbody tr th {\n",
       "        vertical-align: top;\n",
       "    }\n",
       "\n",
       "    .dataframe thead th {\n",
       "        text-align: right;\n",
       "    }\n",
       "</style>\n",
       "<table border=\"1\" class=\"dataframe\">\n",
       "  <thead>\n",
       "    <tr style=\"text-align: right;\">\n",
       "      <th></th>\n",
       "      <th>MLP</th>\n",
       "      <th>LSTM</th>\n",
       "      <th>GRU</th>\n",
       "      <th>RF</th>\n",
       "      <th>Transformer</th>\n",
       "      <th>GTN</th>\n",
       "      <th>TFT</th>\n",
       "      <th>CNN</th>\n",
       "    </tr>\n",
       "  </thead>\n",
       "  <tbody>\n",
       "    <tr>\n",
       "      <th>d2m</th>\n",
       "      <td>0</td>\n",
       "      <td>1</td>\n",
       "      <td>1</td>\n",
       "      <td>0</td>\n",
       "      <td>1</td>\n",
       "      <td>0</td>\n",
       "      <td>0</td>\n",
       "      <td>0</td>\n",
       "    </tr>\n",
       "    <tr>\n",
       "      <th>lc_agriculture</th>\n",
       "      <td>0</td>\n",
       "      <td>0</td>\n",
       "      <td>0</td>\n",
       "      <td>0</td>\n",
       "      <td>0</td>\n",
       "      <td>1</td>\n",
       "      <td>0</td>\n",
       "      <td>1</td>\n",
       "    </tr>\n",
       "    <tr>\n",
       "      <th>lc_forest</th>\n",
       "      <td>0</td>\n",
       "      <td>0</td>\n",
       "      <td>0</td>\n",
       "      <td>1</td>\n",
       "      <td>1</td>\n",
       "      <td>1</td>\n",
       "      <td>1</td>\n",
       "      <td>1</td>\n",
       "    </tr>\n",
       "    <tr>\n",
       "      <th>lc_grassland</th>\n",
       "      <td>1</td>\n",
       "      <td>1</td>\n",
       "      <td>1</td>\n",
       "      <td>1</td>\n",
       "      <td>1</td>\n",
       "      <td>1</td>\n",
       "      <td>1</td>\n",
       "      <td>1</td>\n",
       "    </tr>\n",
       "    <tr>\n",
       "      <th>lc_settlement</th>\n",
       "      <td>1</td>\n",
       "      <td>0</td>\n",
       "      <td>0</td>\n",
       "      <td>1</td>\n",
       "      <td>0</td>\n",
       "      <td>0</td>\n",
       "      <td>0</td>\n",
       "      <td>0</td>\n",
       "    </tr>\n",
       "    <tr>\n",
       "      <th>lc_shrubland</th>\n",
       "      <td>0</td>\n",
       "      <td>0</td>\n",
       "      <td>0</td>\n",
       "      <td>0</td>\n",
       "      <td>0</td>\n",
       "      <td>0</td>\n",
       "      <td>0</td>\n",
       "      <td>0</td>\n",
       "    </tr>\n",
       "    <tr>\n",
       "      <th>lc_sparse_vegetation</th>\n",
       "      <td>0</td>\n",
       "      <td>0</td>\n",
       "      <td>0</td>\n",
       "      <td>1</td>\n",
       "      <td>0</td>\n",
       "      <td>0</td>\n",
       "      <td>0</td>\n",
       "      <td>0</td>\n",
       "    </tr>\n",
       "    <tr>\n",
       "      <th>lc_water_bodies</th>\n",
       "      <td>0</td>\n",
       "      <td>1</td>\n",
       "      <td>1</td>\n",
       "      <td>1</td>\n",
       "      <td>1</td>\n",
       "      <td>1</td>\n",
       "      <td>1</td>\n",
       "      <td>0</td>\n",
       "    </tr>\n",
       "    <tr>\n",
       "      <th>lc_wetland</th>\n",
       "      <td>0</td>\n",
       "      <td>0</td>\n",
       "      <td>0</td>\n",
       "      <td>0</td>\n",
       "      <td>0</td>\n",
       "      <td>0</td>\n",
       "      <td>0</td>\n",
       "      <td>0</td>\n",
       "    </tr>\n",
       "    <tr>\n",
       "      <th>lst_day</th>\n",
       "      <td>1</td>\n",
       "      <td>1</td>\n",
       "      <td>1</td>\n",
       "      <td>1</td>\n",
       "      <td>1</td>\n",
       "      <td>1</td>\n",
       "      <td>1</td>\n",
       "      <td>1</td>\n",
       "    </tr>\n",
       "    <tr>\n",
       "      <th>lst_night</th>\n",
       "      <td>1</td>\n",
       "      <td>1</td>\n",
       "      <td>1</td>\n",
       "      <td>1</td>\n",
       "      <td>1</td>\n",
       "      <td>1</td>\n",
       "      <td>1</td>\n",
       "      <td>0</td>\n",
       "    </tr>\n",
       "    <tr>\n",
       "      <th>rh</th>\n",
       "      <td>1</td>\n",
       "      <td>0</td>\n",
       "      <td>0</td>\n",
       "      <td>1</td>\n",
       "      <td>1</td>\n",
       "      <td>1</td>\n",
       "      <td>1</td>\n",
       "      <td>1</td>\n",
       "    </tr>\n",
       "    <tr>\n",
       "      <th>roads_distance</th>\n",
       "      <td>0</td>\n",
       "      <td>0</td>\n",
       "      <td>0</td>\n",
       "      <td>0</td>\n",
       "      <td>0</td>\n",
       "      <td>0</td>\n",
       "      <td>0</td>\n",
       "      <td>0</td>\n",
       "    </tr>\n",
       "    <tr>\n",
       "      <th>slope</th>\n",
       "      <td>1</td>\n",
       "      <td>1</td>\n",
       "      <td>1</td>\n",
       "      <td>1</td>\n",
       "      <td>1</td>\n",
       "      <td>1</td>\n",
       "      <td>1</td>\n",
       "      <td>1</td>\n",
       "    </tr>\n",
       "    <tr>\n",
       "      <th>smi</th>\n",
       "      <td>1</td>\n",
       "      <td>1</td>\n",
       "      <td>1</td>\n",
       "      <td>1</td>\n",
       "      <td>1</td>\n",
       "      <td>1</td>\n",
       "      <td>1</td>\n",
       "      <td>1</td>\n",
       "    </tr>\n",
       "    <tr>\n",
       "      <th>ssrd</th>\n",
       "      <td>0</td>\n",
       "      <td>1</td>\n",
       "      <td>1</td>\n",
       "      <td>1</td>\n",
       "      <td>1</td>\n",
       "      <td>1</td>\n",
       "      <td>1</td>\n",
       "      <td>1</td>\n",
       "    </tr>\n",
       "    <tr>\n",
       "      <th>t2m</th>\n",
       "      <td>1</td>\n",
       "      <td>1</td>\n",
       "      <td>1</td>\n",
       "      <td>1</td>\n",
       "      <td>1</td>\n",
       "      <td>1</td>\n",
       "      <td>1</td>\n",
       "      <td>1</td>\n",
       "    </tr>\n",
       "    <tr>\n",
       "      <th>tp</th>\n",
       "      <td>1</td>\n",
       "      <td>1</td>\n",
       "      <td>1</td>\n",
       "      <td>1</td>\n",
       "      <td>1</td>\n",
       "      <td>1</td>\n",
       "      <td>1</td>\n",
       "      <td>1</td>\n",
       "    </tr>\n",
       "    <tr>\n",
       "      <th>wind_speed</th>\n",
       "      <td>0</td>\n",
       "      <td>0</td>\n",
       "      <td>0</td>\n",
       "      <td>0</td>\n",
       "      <td>0</td>\n",
       "      <td>0</td>\n",
       "      <td>0</td>\n",
       "      <td>0</td>\n",
       "    </tr>\n",
       "  </tbody>\n",
       "</table>\n",
       "</div>"
      ]
     },
     "execution_count": 10,
     "metadata": {},
     "output_type": "execute_result"
    }
   ],
   "execution_count": 10
  },
  {
   "cell_type": "code",
   "metadata": {
    "ExecuteTime": {
     "end_time": "2025-06-23T12:21:58.940832Z",
     "start_time": "2025-06-23T12:21:58.938182Z"
    }
   },
   "source": [
    "physical_knowledge = {\n",
    "    \"t2m\": \"+\", \"d2m\": \"-\", \"lc_agriculture\": \"+\", \"lc_forest\": \"+\", \"lc_grassland\": \"+\",\n",
    "    \"lc_settlement\": \"-\", \"lc_shrubland\": \"+\", \"lc_sparse_vegetation\": \"+\", \"lc_water_bodies\": \"-\",\n",
    "    \"lc_wetland\": \"-\", \"lst_day\": \"+\", \"lst_night\": \"+\", \"rh\": \"-\", \"roads_distance\": \"+\", \"slope\": \"+\",\n",
    "    \"smi\": \"-\", \"ssrd\": \"+\", \"tp\": \"-\", \"wind_speed\": \"+\"\n",
    "}"
   ],
   "outputs": [],
   "execution_count": 5
  },
  {
   "cell_type": "code",
   "metadata": {
    "ExecuteTime": {
     "end_time": "2025-06-23T12:22:00.148211Z",
     "start_time": "2025-06-23T12:22:00.143715Z"
    }
   },
   "source": [
    "df_plot = df.copy().astype(str).replace({\"1.0\": \"Y\", \"0.0\": \"N\", \"1\": \"Y\", \"0\": \"N\"})\n",
    "df_plot = df_plot.T\n",
    "df_plot.loc[\"Physical-knowledge\"] = [physical_knowledge.get(var, \"\") for var in df_plot.columns]"
   ],
   "outputs": [],
   "execution_count": 6
  },
  {
   "cell_type": "code",
   "metadata": {
    "ExecuteTime": {
     "end_time": "2025-06-23T12:22:01.362656Z",
     "start_time": "2025-06-23T12:22:01.360226Z"
    }
   },
   "source": [
    "def get_color(val):\n",
    "    return {\n",
    "        \"Y\": \"#f4a7b9\",  # rosa\n",
    "        \"N\": \"#9ba4b5\",  # grau\n",
    "        \"+\": \"#c1121f\",  # rot\n",
    "        \"-\": \"#669bbc\"   # blau\n",
    "    }.get(val, \"#ffffff\")  # weiß fallback\n",
    "\n",
    "colors = np.vectorize(get_color)(df_plot.values)"
   ],
   "outputs": [],
   "execution_count": 7
  },
  {
   "cell_type": "code",
   "metadata": {
    "ExecuteTime": {
     "end_time": "2025-06-23T12:22:02.757416Z",
     "start_time": "2025-06-23T12:22:02.448191Z"
    }
   },
   "source": [
    "fig, ax = plt.subplots(figsize=(len(df_plot.columns)*0.6, len(df_plot)*0.6))\n",
    "\n",
    "# Farbe pro Zelle\n",
    "for (i, j), val in np.ndenumerate(df_plot.values):\n",
    "    ax.add_patch(plt.Rectangle((j, i), 1, 1, color=get_color(val), ec='black'))\n",
    "    ax.text(j + 0.5, i + 0.5, val, ha='center', va='center', fontsize=10)\n",
    "\n",
    "ax.set_xlim(0, len(df_plot.columns))\n",
    "ax.set_ylim(0, len(df_plot.index))\n",
    "ax.set_xticks(np.arange(len(df_plot.columns)) + 0.5)\n",
    "ax.set_yticks(np.arange(len(df_plot.index)) + 0.5)\n",
    "ax.set_xticklabels(df_plot.columns, rotation=90)\n",
    "ax.set_yticklabels(df_plot.index)\n",
    "ax.invert_yaxis()\n",
    "ax.set_title(\"Benchmarking Interpretability of ML Models Against Physical Domain Knowledge\")\n",
    "plt.tight_layout()\n",
    "plt.show()"
   ],
   "outputs": [
    {
     "data": {
      "text/plain": [
       "<Figure size 1140x540 with 1 Axes>"
      ],
      "image/png": "[encoded data removed]"
     },
     "metadata": {},
     "output_type": "display_data"
    }
   ],
   "execution_count": 8
  },
  {
   "metadata": {
    "ExecuteTime": {
     "end_time": "2025-06-23T12:22:04.924093Z",
     "start_time": "2025-06-23T12:22:04.681669Z"
    }
   },
   "cell_type": "code",
   "source": [
    "fig, ax = plt.subplots(figsize=(len(df_plot.columns)*0.5, len(df_plot)*0.5))  \n",
    "\n",
    "# Farbe pro Zelle\n",
    "for (i, j), val in np.ndenumerate(df_plot.values):\n",
    "    ax.add_patch(plt.Rectangle((j, i), 1, 1, color=get_color(val), ec='black'))\n",
    "    ax.text(j + 0.5, i + 0.5, val, ha='center', va='center', fontsize=8, fontweight='bold')\n",
    "\n",
    "# Achsenbegrenzung\n",
    "ax.set_xlim(0, len(df_plot.columns))\n",
    "ax.set_ylim(0, len(df_plot.index))\n",
    "\n",
    "# Achsenticks\n",
    "ax.set_xticks(np.arange(len(df_plot.columns)) + 0.5)\n",
    "ax.set_yticks(np.arange(len(df_plot.index)) + 0.5)\n",
    "ax.set_xticklabels(df_plot.columns, rotation=90, fontsize=11, fontweight='bold')\n",
    "ax.set_yticklabels(df_plot.index, fontsize=11, fontweight='bold')\n",
    "\n",
    "# Stil\n",
    "ax.invert_yaxis()\n",
    "ax.set_title(\"Comparison of Physical Interpretability Across Machine Learning Architectures\", fontsize=14, fontweight='bold')\n",
    "plt.tight_layout()\n",
    "plt.show()"
   ],
   "outputs": [
    {
     "data": {
      "text/plain": [
       "<Figure size 950x450 with 1 Axes>"
      ],
      "image/png": "[encoded data removed]"
     },
     "metadata": {},
     "output_type": "display_data"
    }
   ],
   "execution_count": 9
  },
  {
   "metadata": {
    "ExecuteTime": {
     "end_time": "2025-06-20T06:45:08.213362Z",
     "start_time": "2025-06-20T06:45:08.209930Z"
    }
   },
   "cell_type": "code",
   "source": [
    "model = \"lstm\"\n",
    "path = \"/Users/I566184/bachelorarbeit_coding/mesogeos/csv/physical_consistency\"\n",
    "file = f\"{model}_grouped_physical_consistency_0.25.csv\""
   ],
   "outputs": [],
   "execution_count": 9
  },
  {
   "metadata": {
    "ExecuteTime": {
     "end_time": "2025-06-20T06:45:08.226581Z",
     "start_time": "2025-06-20T06:45:08.215478Z"
    }
   },
   "cell_type": "code",
   "source": "df = pd.read_csv(f\"{path}/{file}\", sep=\",\")",
   "outputs": [],
   "execution_count": 10
  },
  {
   "metadata": {
    "ExecuteTime": {
     "end_time": "2025-06-20T06:45:08.249966Z",
     "start_time": "2025-06-20T06:45:08.229511Z"
    }
   },
   "cell_type": "code",
   "source": "df",
   "outputs": [
    {
     "data": {
      "text/plain": [
       "                 feature physical_sign  n_considered  n_consistent  \\\n",
       "0                    d2m             -          3306          2457   \n",
       "1         lc_agriculture             +          3735           584   \n",
       "2              lc_forest             +          3825          1256   \n",
       "3           lc_grassland             +          3887          2262   \n",
       "4          lc_settlement             -           172           115   \n",
       "5           lc_shrubland             +          3891          1029   \n",
       "6   lc_sparse_vegetation             +          3913          1623   \n",
       "7        lc_water_bodies             -            58            38   \n",
       "8             lc_wetland             -            33             2   \n",
       "9                lst_day             +          3339          3257   \n",
       "10             lst_night             +          3459          2558   \n",
       "11                    rh             -          3193          1357   \n",
       "12        roads_distance             +          3205          1153   \n",
       "13                 slope             +          2702          1903   \n",
       "14                   smi             -          3496          2576   \n",
       "15                  ssrd             +          3408          1817   \n",
       "16                   t2m             +          3533          3007   \n",
       "17                    tp             -          2329          2096   \n",
       "18            wind_speed             +          2731          1205   \n",
       "\n",
       "    consistency_score  \n",
       "0            0.743194  \n",
       "1            0.156359  \n",
       "2            0.328366  \n",
       "3            0.581940  \n",
       "4            0.668605  \n",
       "5            0.264456  \n",
       "6            0.414771  \n",
       "7            0.655172  \n",
       "8            0.060606  \n",
       "9            0.975442  \n",
       "10           0.739520  \n",
       "11           0.424992  \n",
       "12           0.359750  \n",
       "13           0.704293  \n",
       "14           0.736842  \n",
       "15           0.533157  \n",
       "16           0.851118  \n",
       "17           0.899957  \n",
       "18           0.441230  "
      ],
      "text/html": [
       "<div>\n",
       "<style scoped>\n",
       "    .dataframe tbody tr th:only-of-type {\n",
       "        vertical-align: middle;\n",
       "    }\n",
       "\n",
       "    .dataframe tbody tr th {\n",
       "        vertical-align: top;\n",
       "    }\n",
       "\n",
       "    .dataframe thead th {\n",
       "        text-align: right;\n",
       "    }\n",
       "</style>\n",
       "<table border=\"1\" class=\"dataframe\">\n",
       "  <thead>\n",
       "    <tr style=\"text-align: right;\">\n",
       "      <th></th>\n",
       "      <th>feature</th>\n",
       "      <th>physical_sign</th>\n",
       "      <th>n_considered</th>\n",
       "      <th>n_consistent</th>\n",
       "      <th>consistency_score</th>\n",
       "    </tr>\n",
       "  </thead>\n",
       "  <tbody>\n",
       "    <tr>\n",
       "      <th>0</th>\n",
       "      <td>d2m</td>\n",
       "      <td>-</td>\n",
       "      <td>3306</td>\n",
       "      <td>2457</td>\n",
       "      <td>0.743194</td>\n",
       "    </tr>\n",
       "    <tr>\n",
       "      <th>1</th>\n",
       "      <td>lc_agriculture</td>\n",
       "      <td>+</td>\n",
       "      <td>3735</td>\n",
       "      <td>584</td>\n",
       "      <td>0.156359</td>\n",
       "    </tr>\n",
       "    <tr>\n",
       "      <th>2</th>\n",
       "      <td>lc_forest</td>\n",
       "      <td>+</td>\n",
       "      <td>3825</td>\n",
       "      <td>1256</td>\n",
       "      <td>0.328366</td>\n",
       "    </tr>\n",
       "    <tr>\n",
       "      <th>3</th>\n",
       "      <td>lc_grassland</td>\n",
       "      <td>+</td>\n",
       "      <td>3887</td>\n",
       "      <td>2262</td>\n",
       "      <td>0.581940</td>\n",
       "    </tr>\n",
       "    <tr>\n",
       "      <th>4</th>\n",
       "      <td>lc_settlement</td>\n",
       "      <td>-</td>\n",
       "      <td>172</td>\n",
       "      <td>115</td>\n",
       "      <td>0.668605</td>\n",
       "    </tr>\n",
       "    <tr>\n",
       "      <th>5</th>\n",
       "      <td>lc_shrubland</td>\n",
       "      <td>+</td>\n",
       "      <td>3891</td>\n",
       "      <td>1029</td>\n",
       "      <td>0.264456</td>\n",
       "    </tr>\n",
       "    <tr>\n",
       "      <th>6</th>\n",
       "      <td>lc_sparse_vegetation</td>\n",
       "      <td>+</td>\n",
       "      <td>3913</td>\n",
       "      <td>1623</td>\n",
       "      <td>0.414771</td>\n",
       "    </tr>\n",
       "    <tr>\n",
       "      <th>7</th>\n",
       "      <td>lc_water_bodies</td>\n",
       "      <td>-</td>\n",
       "      <td>58</td>\n",
       "      <td>38</td>\n",
       "      <td>0.655172</td>\n",
       "    </tr>\n",
       "    <tr>\n",
       "      <th>8</th>\n",
       "      <td>lc_wetland</td>\n",
       "      <td>-</td>\n",
       "      <td>33</td>\n",
       "      <td>2</td>\n",
       "      <td>0.060606</td>\n",
       "    </tr>\n",
       "    <tr>\n",
       "      <th>9</th>\n",
       "      <td>lst_day</td>\n",
       "      <td>+</td>\n",
       "      <td>3339</td>\n",
       "      <td>3257</td>\n",
       "      <td>0.975442</td>\n",
       "    </tr>\n",
       "    <tr>\n",
       "      <th>10</th>\n",
       "      <td>lst_night</td>\n",
       "      <td>+</td>\n",
       "      <td>3459</td>\n",
       "      <td>2558</td>\n",
       "      <td>0.739520</td>\n",
       "    </tr>\n",
       "    <tr>\n",
       "      <th>11</th>\n",
       "      <td>rh</td>\n",
       "      <td>-</td>\n",
       "      <td>3193</td>\n",
       "      <td>1357</td>\n",
       "      <td>0.424992</td>\n",
       "    </tr>\n",
       "    <tr>\n",
       "      <th>12</th>\n",
       "      <td>roads_distance</td>\n",
       "      <td>+</td>\n",
       "      <td>3205</td>\n",
       "      <td>1153</td>\n",
       "      <td>0.359750</td>\n",
       "    </tr>\n",
       "    <tr>\n",
       "      <th>13</th>\n",
       "      <td>slope</td>\n",
       "      <td>+</td>\n",
       "      <td>2702</td>\n",
       "      <td>1903</td>\n",
       "      <td>0.704293</td>\n",
       "    </tr>\n",
       "    <tr>\n",
       "      <th>14</th>\n",
       "      <td>smi</td>\n",
       "      <td>-</td>\n",
       "      <td>3496</td>\n",
       "      <td>2576</td>\n",
       "      <td>0.736842</td>\n",
       "    </tr>\n",
       "    <tr>\n",
       "      <th>15</th>\n",
       "      <td>ssrd</td>\n",
       "      <td>+</td>\n",
       "      <td>3408</td>\n",
       "      <td>1817</td>\n",
       "      <td>0.533157</td>\n",
       "    </tr>\n",
       "    <tr>\n",
       "      <th>16</th>\n",
       "      <td>t2m</td>\n",
       "      <td>+</td>\n",
       "      <td>3533</td>\n",
       "      <td>3007</td>\n",
       "      <td>0.851118</td>\n",
       "    </tr>\n",
       "    <tr>\n",
       "      <th>17</th>\n",
       "      <td>tp</td>\n",
       "      <td>-</td>\n",
       "      <td>2329</td>\n",
       "      <td>2096</td>\n",
       "      <td>0.899957</td>\n",
       "    </tr>\n",
       "    <tr>\n",
       "      <th>18</th>\n",
       "      <td>wind_speed</td>\n",
       "      <td>+</td>\n",
       "      <td>2731</td>\n",
       "      <td>1205</td>\n",
       "      <td>0.441230</td>\n",
       "    </tr>\n",
       "  </tbody>\n",
       "</table>\n",
       "</div>"
      ]
     },
     "execution_count": 11,
     "metadata": {},
     "output_type": "execute_result"
    }
   ],
   "execution_count": 11
  },
  {
   "metadata": {
    "ExecuteTime": {
     "end_time": "2025-06-20T06:45:08.260742Z",
     "start_time": "2025-06-20T06:45:08.252390Z"
    }
   },
   "cell_type": "code",
   "source": [
    "def compare_consistency_thresholds(model: str):\n",
    "    files = {\n",
    "        \"0.0\": f\"{model}_grouped_physical_consistency_0.0.csv\",\n",
    "        \"0.1\": f\"{model}_grouped_physical_consistency_0.1.csv\",\n",
    "        \"0.25\": f\"{model}_grouped_physical_consistency_0.25.csv\",\n",
    "        \"default\": f\"{model}_grouped_physical_consistency.csv\",\n",
    "        #\"quantile\": f\"{model}_grouped_physical_consistency_quantiles.csv\"\n",
    "    }\n",
    "\n",
    "    summary = {}\n",
    "\n",
    "    for label, filename in files.items():\n",
    "        full_path = os.path.join(path, filename)\n",
    "        if not os.path.exists(full_path):\n",
    "            print(f\"⚠️ Datei nicht gefunden: {filename}\")\n",
    "            continue\n",
    "\n",
    "        df = pd.read_csv(full_path)\n",
    "        count_above_05 = (df[\"consistency_score\"] > 0.5).sum()\n",
    "        total = len(df)\n",
    "        ratio = count_above_05 / total if total > 0 else 0.0\n",
    "\n",
    "        summary[label] = {\n",
    "            \"filename\": filename,\n",
    "            \"n_features\": total,\n",
    "            \"n_above_0.5\": count_above_05,\n",
    "            \"ratio_above_0.5\": ratio,\n",
    "        }\n",
    "\n",
    "    # Beste Datei ermitteln\n",
    "    best_key = max(summary, key=lambda k: summary[k][\"ratio_above_0.5\"])\n",
    "    best_entry = summary[best_key]\n",
    "\n",
    "    print(\"\\n📊 Vergleich der Physical Consistency Scores:\")\n",
    "    for key, entry in summary.items():\n",
    "        print(f\"- Schwelle {key}: {entry['n_above_0.5']}/{entry['n_features']} > 0.5 \"\n",
    "              f\"({entry['ratio_above_0.5']:.2%}) – Datei: {entry['filename']}\")\n",
    "\n",
    "    print(f\"\\n✅ Beste Schwelle: '{best_key}' mit {best_entry['ratio_above_0.5']:.2%} über 0.5\")"
   ],
   "outputs": [],
   "execution_count": 12
  },
  {
   "metadata": {
    "ExecuteTime": {
     "end_time": "2025-06-20T06:59:56.486383Z",
     "start_time": "2025-06-20T06:59:56.483249Z"
    }
   },
   "cell_type": "code",
   "source": [
    "def get_physically_consistent_features(model: str, threshold: float = 0.5):\n",
    "    file = f\"{model}_grouped_physical_consistency_0.25.csv\"\n",
    "    full_path = os.path.join(path, file)\n",
    "\n",
    "    df = pd.read_csv(full_path)\n",
    "    consistent_feats = df[df[\"consistency_score\"] > threshold][\"feature\"].tolist()\n",
    "\n",
    "    print(f\"✅ Physically consistent features for model '{model}' (score > {threshold}):\")\n",
    "    for feat in consistent_feats:\n",
    "        print(f\"- {feat}\")\n",
    "\n",
    "    print(f\"\\nTotal consistent features: {len(consistent_feats)}\")"
   ],
   "outputs": [],
   "execution_count": 42
  },
  {
   "metadata": {
    "ExecuteTime": {
     "end_time": "2025-06-20T07:06:29.692712Z",
     "start_time": "2025-06-20T07:06:29.660288Z"
    }
   },
   "cell_type": "code",
   "source": [
    "model= (\"rf\")\n",
    "compare_consistency_thresholds(model)\n",
    "get_physically_consistent_features(model, threshold=0.5)"
   ],
   "outputs": [
    {
     "name": "stdout",
     "output_type": "stream",
     "text": [
      "\n",
      "📊 Vergleich der Physical Consistency Scores:\n",
      "- Schwelle 0.0: 13/19 > 0.5 (68.42%) – Datei: rf_grouped_physical_consistency_0.0.csv\n",
      "- Schwelle 0.1: 13/19 > 0.5 (68.42%) – Datei: rf_grouped_physical_consistency_0.1.csv\n",
      "- Schwelle 0.25: 13/19 > 0.5 (68.42%) – Datei: rf_grouped_physical_consistency_0.25.csv\n",
      "- Schwelle default: 12/19 > 0.5 (63.16%) – Datei: rf_grouped_physical_consistency.csv\n",
      "\n",
      "✅ Beste Schwelle: '0.0' mit 68.42% über 0.5\n",
      "✅ Physically consistent features for model 'rf' (score > 0.5):\n",
      "- lc_forest\n",
      "- lc_grassland\n",
      "- lc_settlement\n",
      "- lc_sparse_vegetation\n",
      "- lc_water_bodies\n",
      "- lst_day\n",
      "- lst_night\n",
      "- rh\n",
      "- slope\n",
      "- smi\n",
      "- ssrd\n",
      "- t2m\n",
      "- tp\n",
      "\n",
      "Total consistent features: 13\n"
     ]
    }
   ],
   "execution_count": 50
  },
  {
   "metadata": {
    "ExecuteTime": {
     "end_time": "2025-06-20T06:45:08.319773Z",
     "start_time": "2025-06-20T06:45:08.293385Z"
    }
   },
   "cell_type": "code",
   "source": "compare_consistency_thresholds(\"gru\")",
   "outputs": [
    {
     "name": "stdout",
     "output_type": "stream",
     "text": [
      "\n",
      "📊 Vergleich der Physical Consistency Scores:\n",
      "- Schwelle 0.0: 10/19 > 0.5 (52.63%) – Datei: gru_grouped_physical_consistency_0.0.csv\n",
      "- Schwelle 0.1: 10/19 > 0.5 (52.63%) – Datei: gru_grouped_physical_consistency_0.1.csv\n",
      "- Schwelle 0.25: 11/19 > 0.5 (57.89%) – Datei: gru_grouped_physical_consistency_0.25.csv\n",
      "- Schwelle default: 11/19 > 0.5 (57.89%) – Datei: gru_grouped_physical_consistency.csv\n",
      "\n",
      "✅ Beste Schwelle: '0.25' mit 57.89% über 0.5\n"
     ]
    }
   ],
   "execution_count": 15
  },
  {
   "metadata": {
    "ExecuteTime": {
     "end_time": "2025-06-19T13:50:56.999444Z",
     "start_time": "2025-06-19T13:50:56.990713Z"
    }
   },
   "cell_type": "code",
   "source": "compare_consistency_thresholds(\"mlp\")",
   "outputs": [
    {
     "name": "stdout",
     "output_type": "stream",
     "text": [
      "\n",
      "📊 Vergleich der Physical Consistency Scores:\n",
      "- Schwelle 0.0: 9/19 > 0.5 (47.37%) – Datei: mlp_grouped_physical_consistency_0.0.csv\n",
      "- Schwelle 0.1: 9/19 > 0.5 (47.37%) – Datei: mlp_grouped_physical_consistency_0.1.csv\n",
      "- Schwelle 0.25: 9/19 > 0.5 (47.37%) – Datei: mlp_grouped_physical_consistency_0.25.csv\n",
      "- Schwelle default: 9/19 > 0.5 (47.37%) – Datei: mlp_grouped_physical_consistency.csv\n",
      "- Schwelle quantile: 8/19 > 0.5 (42.11%) – Datei: mlp_grouped_physical_consistency_quantiles.csv\n",
      "\n",
      "✅ Beste Schwelle: '0.0' mit 47.37% über 0.5\n"
     ]
    }
   ],
   "execution_count": 72
  },
  {
   "metadata": {
    "ExecuteTime": {
     "end_time": "2025-06-19T13:51:37.480281Z",
     "start_time": "2025-06-19T13:51:37.470810Z"
    }
   },
   "cell_type": "code",
   "source": "compare_consistency_thresholds(\"transformer\")",
   "outputs": [
    {
     "name": "stdout",
     "output_type": "stream",
     "text": [
      "\n",
      "📊 Vergleich der Physical Consistency Scores:\n",
      "- Schwelle 0.0: 11/19 > 0.5 (57.89%) – Datei: transformer_grouped_physical_consistency_0.0.csv\n",
      "- Schwelle 0.1: 12/19 > 0.5 (63.16%) – Datei: transformer_grouped_physical_consistency_0.1.csv\n",
      "- Schwelle 0.25: 12/19 > 0.5 (63.16%) – Datei: transformer_grouped_physical_consistency_0.25.csv\n",
      "- Schwelle default: 12/19 > 0.5 (63.16%) – Datei: transformer_grouped_physical_consistency.csv\n",
      "\n",
      "✅ Beste Schwelle: '0.1' mit 63.16% über 0.5\n"
     ]
    }
   ],
   "execution_count": 74
  },
  {
   "metadata": {
    "ExecuteTime": {
     "end_time": "2025-06-19T13:50:42.488820Z",
     "start_time": "2025-06-19T13:50:42.481317Z"
    }
   },
   "cell_type": "code",
   "source": "compare_consistency_thresholds(\"gru\")",
   "outputs": [
    {
     "name": "stdout",
     "output_type": "stream",
     "text": [
      "\n",
      "📊 Vergleich der Physical Consistency Scores:\n",
      "- Schwelle 0.0: 10/19 > 0.5 (52.63%) – Datei: gru_grouped_physical_consistency_0.0.csv\n",
      "- Schwelle 0.1: 10/19 > 0.5 (52.63%) – Datei: gru_grouped_physical_consistency_0.1.csv\n",
      "- Schwelle 0.25: 11/19 > 0.5 (57.89%) – Datei: gru_grouped_physical_consistency_0.25.csv\n",
      "- Schwelle default: 11/19 > 0.5 (57.89%) – Datei: gru_grouped_physical_consistency.csv\n",
      "- Schwelle quantile: 11/19 > 0.5 (57.89%) – Datei: gru_grouped_physical_consistency_quantiles.csv\n",
      "\n",
      "✅ Beste Schwelle: '0.25' mit 57.89% über 0.5\n"
     ]
    }
   ],
   "execution_count": 67
  },
  {
   "metadata": {
    "ExecuteTime": {
     "end_time": "2025-06-19T13:50:50.747067Z",
     "start_time": "2025-06-19T13:50:50.739810Z"
    }
   },
   "cell_type": "code",
   "source": "compare_consistency_thresholds(\"gtn\")",
   "outputs": [
    {
     "name": "stdout",
     "output_type": "stream",
     "text": [
      "\n",
      "📊 Vergleich der Physical Consistency Scores:\n",
      "- Schwelle 0.0: 11/19 > 0.5 (57.89%) – Datei: gtn_grouped_physical_consistency_0.0.csv\n",
      "- Schwelle 0.1: 12/19 > 0.5 (63.16%) – Datei: gtn_grouped_physical_consistency_0.1.csv\n",
      "- Schwelle 0.25: 13/19 > 0.5 (68.42%) – Datei: gtn_grouped_physical_consistency_0.25.csv\n",
      "- Schwelle default: 13/19 > 0.5 (68.42%) – Datei: gtn_grouped_physical_consistency.csv\n",
      "- Schwelle quantile: 12/19 > 0.5 (63.16%) – Datei: gtn_grouped_physical_consistency_quantiles.csv\n",
      "\n",
      "✅ Beste Schwelle: '0.25' mit 68.42% über 0.5\n"
     ]
    }
   ],
   "execution_count": 70
  },
  {
   "metadata": {
    "ExecuteTime": {
     "end_time": "2025-06-19T13:50:44.326883Z",
     "start_time": "2025-06-19T13:50:44.317639Z"
    }
   },
   "cell_type": "code",
   "source": "compare_consistency_thresholds(\"tft\")",
   "outputs": [
    {
     "name": "stdout",
     "output_type": "stream",
     "text": [
      "\n",
      "📊 Vergleich der Physical Consistency Scores:\n",
      "- Schwelle 0.0: 11/19 > 0.5 (57.89%) – Datei: tft_grouped_physical_consistency_0.0.csv\n",
      "- Schwelle 0.1: 11/19 > 0.5 (57.89%) – Datei: tft_grouped_physical_consistency_0.1.csv\n",
      "- Schwelle 0.25: 12/19 > 0.5 (63.16%) – Datei: tft_grouped_physical_consistency_0.25.csv\n",
      "- Schwelle default: 12/19 > 0.5 (63.16%) – Datei: tft_grouped_physical_consistency.csv\n",
      "- Schwelle quantile: 12/19 > 0.5 (63.16%) – Datei: tft_grouped_physical_consistency_quantiles.csv\n",
      "\n",
      "✅ Beste Schwelle: '0.25' mit 63.16% über 0.5\n"
     ]
    }
   ],
   "execution_count": 68
  },
  {
   "metadata": {
    "ExecuteTime": {
     "end_time": "2025-06-19T13:50:45.900784Z",
     "start_time": "2025-06-19T13:50:45.892863Z"
    }
   },
   "cell_type": "code",
   "source": "compare_consistency_thresholds(\"rf\")",
   "outputs": [
    {
     "name": "stdout",
     "output_type": "stream",
     "text": [
      "\n",
      "📊 Vergleich der Physical Consistency Scores:\n",
      "- Schwelle 0.0: 13/19 > 0.5 (68.42%) – Datei: rf_grouped_physical_consistency_0.0.csv\n",
      "- Schwelle 0.1: 13/19 > 0.5 (68.42%) – Datei: rf_grouped_physical_consistency_0.1.csv\n",
      "- Schwelle 0.25: 13/19 > 0.5 (68.42%) – Datei: rf_grouped_physical_consistency_0.25.csv\n",
      "- Schwelle default: 12/19 > 0.5 (63.16%) – Datei: rf_grouped_physical_consistency.csv\n",
      "- Schwelle quantile: 12/19 > 0.5 (63.16%) – Datei: rf_grouped_physical_consistency_quantiles.csv\n",
      "\n",
      "✅ Beste Schwelle: '0.0' mit 68.42% über 0.5\n"
     ]
    }
   ],
   "execution_count": 69
  },
  {
   "metadata": {},
   "cell_type": "code",
   "outputs": [],
   "execution_count": null,
   "source": ""
  }
 ],
 "metadata": {
  "kernelspec": {
   "display_name": "Python 3",
   "language": "python",
   "name": "python3"
  },
  "language_info": {
   "name": "python",
   "version": "3.11"
  }
 },
 "nbformat": 4,
 "nbformat_minor": 2
}
