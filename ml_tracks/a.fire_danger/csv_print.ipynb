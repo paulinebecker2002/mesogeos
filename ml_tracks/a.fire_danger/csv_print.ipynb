{
 "cells": [
  {
   "cell_type": "code",
   "id": "initial_id",
   "metadata": {
    "collapsed": true,
    "ExecuteTime": {
     "end_time": "2025-04-24T11:51:36.703607Z",
     "start_time": "2025-04-24T11:51:35.001412Z"
    }
   },
   "source": [
    "import pandas as pd\n",
    "import numpy as np"
   ],
   "outputs": [],
   "execution_count": 1
  },
  {
   "metadata": {
    "ExecuteTime": {
     "end_time": "2025-04-24T11:51:41.028656Z",
     "start_time": "2025-04-24T11:51:39.717934Z"
    }
   },
   "cell_type": "code",
   "source": [
    "pos_data = pd.read_csv('./a.danger_forecasting/positives.csv')\n",
    "neg_data = pd.read_csv('./a.danger_forecasting/negatives.csv')"
   ],
   "id": "b201b94c5d3723a1",
   "outputs": [],
   "execution_count": 2
  },
  {
   "metadata": {
    "ExecuteTime": {
     "end_time": "2025-04-24T14:49:22.043312Z",
     "start_time": "2025-04-24T14:49:22.030749Z"
    }
   },
   "cell_type": "code",
   "source": [
    "max_wspeed = pos_data['wind_speed'].max()\n",
    "min_wspeed = pos_data['wind_speed'].min()\n",
    "print(max_wspeed, \"minimum:\", min_wspeed)"
   ],
   "id": "96941ba8fa733dea",
   "outputs": [
    {
     "name": "stdout",
     "output_type": "stream",
     "text": [
      "15.19773 minimum: 0.5327648\n"
     ]
    }
   ],
   "execution_count": 15
  },
  {
   "metadata": {
    "ExecuteTime": {
     "end_time": "2025-04-24T11:52:24.204955Z",
     "start_time": "2025-04-24T11:52:24.204884Z"
    }
   },
   "cell_type": "code",
   "source": "neg_data",
   "id": "55b30907c83081b4",
   "outputs": [],
   "execution_count": null
  },
  {
   "metadata": {
    "ExecuteTime": {
     "end_time": "2025-04-23T10:54:24.123770Z",
     "start_time": "2025-04-23T10:54:24.121167Z"
    }
   },
   "cell_type": "code",
   "source": "print (pos_data.columns)",
   "id": "1516da7c0c29d1f3",
   "outputs": [
    {
     "name": "stdout",
     "output_type": "stream",
     "text": [
      "Index(['time', 'aspect', 'burned_areas', 'curvature', 'd2m', 'dem',\n",
      "       'ignition_points', 'lai', 'lst_day', 'lst_night', 'ndvi', 'rh',\n",
      "       'roads_distance', 'slope', 'smi', 'sp', 'ssrd', 't2m', 'tp',\n",
      "       'wind_direction', 'wind_speed', 'x', 'y', 'lc_agriculture', 'lc_forest',\n",
      "       'lc_grassland', 'lc_settlement', 'lc_shrubland', 'lc_sparse_vegetation',\n",
      "       'lc_water_bodies', 'lc_wetland', 'population', 'burned_area_has',\n",
      "       'time_idx', 'sample'],\n",
      "      dtype='object')\n"
     ]
    }
   ],
   "execution_count": 6
  },
  {
   "metadata": {
    "ExecuteTime": {
     "end_time": "2025-04-23T10:55:00.909657Z",
     "start_time": "2025-04-23T10:55:00.895406Z"
    }
   },
   "cell_type": "code",
   "source": "print (neg_data.columns)",
   "id": "abc5f0e17461d666",
   "outputs": [
    {
     "name": "stdout",
     "output_type": "stream",
     "text": [
      "Index(['time', 'aspect', 'burned_areas', 'curvature', 'd2m', 'dem',\n",
      "       'ignition_points', 'lai', 'lst_day', 'lst_night', 'ndvi', 'rh',\n",
      "       'roads_distance', 'slope', 'smi', 'sp', 'ssrd', 't2m', 'tp',\n",
      "       'wind_direction', 'wind_speed', 'x', 'y', 'lc_agriculture', 'lc_forest',\n",
      "       'lc_grassland', 'lc_settlement', 'lc_shrubland', 'lc_sparse_vegetation',\n",
      "       'lc_water_bodies', 'lc_wetland', 'population', 'burned_area_has',\n",
      "       'time_idx', 'sample'],\n",
      "      dtype='object')\n"
     ]
    }
   ],
   "execution_count": 7
  },
  {
   "metadata": {},
   "cell_type": "code",
   "outputs": [],
   "execution_count": null,
   "source": "",
   "id": "14b76993fceb69a4"
  }
 ],
 "metadata": {
  "kernelspec": {
   "display_name": "Python 3",
   "language": "python",
   "name": "python3"
  },
  "language_info": {
   "codemirror_mode": {
    "name": "ipython",
    "version": 2
   },
   "file_extension": ".py",
   "mimetype": "text/x-python",
   "name": "python",
   "nbconvert_exporter": "python",
   "pygments_lexer": "ipython2",
   "version": "2.7.6"
  }
 },
 "nbformat": 4,
 "nbformat_minor": 5
}
