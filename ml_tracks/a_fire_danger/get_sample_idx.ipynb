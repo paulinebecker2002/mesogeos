{
 "cells": [
  {
   "metadata": {},
   "cell_type": "markdown",
   "source": "Script to get sample id of Input_all tensor and to find shap value of specific sample",
   "id": "703a832a78d55531"
  },
  {
   "cell_type": "code",
   "id": "initial_id",
   "metadata": {
    "collapsed": true,
    "ExecuteTime": {
     "end_time": "2025-06-12T14:28:49.472915Z",
     "start_time": "2025-06-12T14:28:49.444431Z"
    }
   },
   "source": [
    "import pandas as pd\n",
    "import numpy as np\n",
    "\n",
    "from datasets.dataset import FireDataset\n",
    "from pathlib import Path\n",
    "import json\n",
    "config_path = Path(\"/Users/I566184/bachelorarbeit_coding/mesogeos/ml_tracks/a_fire_danger/configs/config_mlp/config_train.json\")\n",
    "csv = Path(\"/Users/I566184/bachelorarbeit_coding/mesogeos/csv/test_softmax_csv/test_softmax_outputs_lstm.csv\")\n",
    "with open(config_path, \"r\") as f:\n",
    "    config = json.load(f)"
   ],
   "outputs": [],
   "execution_count": 52
  },
  {
   "metadata": {
    "ExecuteTime": {
     "end_time": "2025-06-12T14:20:09.756480Z",
     "start_time": "2025-06-12T14:20:07.288272Z"
    }
   },
   "cell_type": "code",
   "source": [
    "test_dataset = FireDataset(\n",
    "    dataset_root=Path(\"/Users/I566184/bachelorarbeit_coding/mesogeos/ml_tracks/a_fire_danger/a.danger_forecasting\"),\n",
    "    train_val_test='test',\n",
    "    dynamic_features=config[\"features\"][\"dynamic\"],\n",
    "    static_features=config[\"features\"][\"static\"]\n",
    ")"
   ],
   "id": "35725221596fd0aa",
   "outputs": [
    {
     "name": "stdout",
     "output_type": "stream",
     "text": [
      "Test Positives: 1369.0 / Test Negatives: 2738.0\n",
      "Test Dataset length 4107.0\n"
     ]
    }
   ],
   "execution_count": 46
  },
  {
   "metadata": {
    "ExecuteTime": {
     "end_time": "2025-06-12T15:30:44.845032Z",
     "start_time": "2025-06-12T15:30:44.836504Z"
    }
   },
   "cell_type": "code",
   "source": [
    "def get_sample (target_sample):\n",
    "    row = df[df['sample_id']==target_sample]\n",
    "    if row.empty:\n",
    "        print(f\"Sample {target_sample} not found.\")\n",
    "        return None\n",
    "\n",
    "    sample_idx = row['index']\n",
    "    print(f\"Our original sample {target_sample} converts now to sample: {sample_idx}\")\n",
    "    return sample_idx"
   ],
   "id": "8bb7cc9a37b9837",
   "outputs": [],
   "execution_count": 61
  },
  {
   "metadata": {
    "ExecuteTime": {
     "end_time": "2025-06-12T15:31:06.757329Z",
     "start_time": "2025-06-12T15:31:06.753829Z"
    }
   },
   "cell_type": "code",
   "source": [
    "#Fire in Greece \n",
    "first_biggest_Fire_Test = get_sample(4792)"
   ],
   "id": "2337b7c19ef4b71f",
   "outputs": [
    {
     "name": "stdout",
     "output_type": "stream",
     "text": [
      "Our original sample 4792 converts now to sample: 479    479\n",
      "Name: index, dtype: int64\n"
     ]
    }
   ],
   "execution_count": 68
  },
  {
   "metadata": {
    "ExecuteTime": {
     "end_time": "2025-06-12T15:31:04.460530Z",
     "start_time": "2025-06-12T15:31:04.446986Z"
    }
   },
   "cell_type": "code",
   "source": [
    "#Fire in Spain\n",
    "second_biggest_Fire_Test = get_sample(679)"
   ],
   "id": "410c5bfc71525bcb",
   "outputs": [
    {
     "name": "stdout",
     "output_type": "stream",
     "text": [
      "Our original sample 679 converts now to sample: 3984    3984\n",
      "Name: index, dtype: int64\n"
     ]
    }
   ],
   "execution_count": 67
  },
  {
   "metadata": {
    "ExecuteTime": {
     "end_time": "2025-06-12T15:31:02.997598Z",
     "start_time": "2025-06-12T15:31:02.993710Z"
    }
   },
   "cell_type": "code",
   "source": [
    "#Fire in Algeria \n",
    "third_biggest_Fire_Test = get_sample(8418)"
   ],
   "id": "50dcdd9319fdff7c",
   "outputs": [
    {
     "name": "stdout",
     "output_type": "stream",
     "text": [
      "Our original sample 8418 converts now to sample: 3505    3505\n",
      "Name: index, dtype: int64\n"
     ]
    }
   ],
   "execution_count": 66
  },
  {
   "metadata": {
    "ExecuteTime": {
     "end_time": "2025-06-12T14:28:54.512385Z",
     "start_time": "2025-06-12T14:28:54.500100Z"
    }
   },
   "cell_type": "code",
   "source": [
    "df = pd.read_csv(csv)\n",
    "df['index'] = np.arange(len(df))"
   ],
   "id": "c0379e999d454f0d",
   "outputs": [],
   "execution_count": 53
  },
  {
   "metadata": {
    "ExecuteTime": {
     "end_time": "2025-06-12T15:32:13.301553Z",
     "start_time": "2025-06-12T15:32:13.272751Z"
    }
   },
   "cell_type": "code",
   "source": "df[(df['sample_id']==4792) | (df['sample_id']==679) | (df['sample_id']==8418)]",
   "id": "dd66bfe89e04235d",
   "outputs": [
    {
     "data": {
      "text/plain": [
       "          prob        lat        lon  sample_id  label  log_burned_area  index\n",
       "479   0.979855  23.334165  38.818407       4792      1        10.844374    479\n",
       "3505  0.942400   4.172912  36.593164       8418      1        10.322230   3505\n",
       "3984  0.490033  -6.037025  41.738409        679      1        10.389856   3984"
      ],
      "text/html": [
       "<div>\n",
       "<style scoped>\n",
       "    .dataframe tbody tr th:only-of-type {\n",
       "        vertical-align: middle;\n",
       "    }\n",
       "\n",
       "    .dataframe tbody tr th {\n",
       "        vertical-align: top;\n",
       "    }\n",
       "\n",
       "    .dataframe thead th {\n",
       "        text-align: right;\n",
       "    }\n",
       "</style>\n",
       "<table border=\"1\" class=\"dataframe\">\n",
       "  <thead>\n",
       "    <tr style=\"text-align: right;\">\n",
       "      <th></th>\n",
       "      <th>prob</th>\n",
       "      <th>lat</th>\n",
       "      <th>lon</th>\n",
       "      <th>sample_id</th>\n",
       "      <th>label</th>\n",
       "      <th>log_burned_area</th>\n",
       "      <th>index</th>\n",
       "    </tr>\n",
       "  </thead>\n",
       "  <tbody>\n",
       "    <tr>\n",
       "      <th>479</th>\n",
       "      <td>0.979855</td>\n",
       "      <td>23.334165</td>\n",
       "      <td>38.818407</td>\n",
       "      <td>4792</td>\n",
       "      <td>1</td>\n",
       "      <td>10.844374</td>\n",
       "      <td>479</td>\n",
       "    </tr>\n",
       "    <tr>\n",
       "      <th>3505</th>\n",
       "      <td>0.942400</td>\n",
       "      <td>4.172912</td>\n",
       "      <td>36.593164</td>\n",
       "      <td>8418</td>\n",
       "      <td>1</td>\n",
       "      <td>10.322230</td>\n",
       "      <td>3505</td>\n",
       "    </tr>\n",
       "    <tr>\n",
       "      <th>3984</th>\n",
       "      <td>0.490033</td>\n",
       "      <td>-6.037025</td>\n",
       "      <td>41.738409</td>\n",
       "      <td>679</td>\n",
       "      <td>1</td>\n",
       "      <td>10.389856</td>\n",
       "      <td>3984</td>\n",
       "    </tr>\n",
       "  </tbody>\n",
       "</table>\n",
       "</div>"
      ]
     },
     "execution_count": 71,
     "metadata": {},
     "output_type": "execute_result"
    }
   ],
   "execution_count": 71
  },
  {
   "metadata": {
    "ExecuteTime": {
     "end_time": "2025-06-12T14:29:13.165058Z",
     "start_time": "2025-06-12T14:29:13.141298Z"
    }
   },
   "cell_type": "code",
   "source": "get_sample(4792)",
   "id": "d27e25a38000f445",
   "outputs": [
    {
     "name": "stdout",
     "output_type": "stream",
     "text": [
      "Our original sample 4792 converts now to sample: 479\n"
     ]
    },
    {
     "data": {
      "text/plain": [
       "479"
      ]
     },
     "execution_count": 55,
     "metadata": {},
     "output_type": "execute_result"
    }
   ],
   "execution_count": 55
  },
  {
   "metadata": {
    "ExecuteTime": {
     "end_time": "2025-06-12T14:29:25.897758Z",
     "start_time": "2025-06-12T14:29:25.880743Z"
    }
   },
   "cell_type": "code",
   "source": "df",
   "id": "b7d101fa4a3f49b3",
   "outputs": [
    {
     "data": {
      "text/plain": [
       "          prob        lat        lon  sample_id  label  log_burned_area  index\n",
       "0     0.886618  -7.033854  40.983236        728      1         5.056246      0\n",
       "1     0.002440  11.563537  43.399789      16438      0         3.401197      1\n",
       "2     0.276308  -5.724887  34.649853      17300      0         3.401197      2\n",
       "3     0.023041  34.802724  37.318130      15725      0         3.401197      3\n",
       "4     0.007572  -4.526680  40.983236      15141      0         3.401197      4\n",
       "...        ...        ...        ...        ...    ...              ...    ...\n",
       "4102  0.000312  30.040100  38.425717      16004      0         3.401197   4102\n",
       "4103  0.981715  19.356921  42.493582       6028      1         5.886104   4103\n",
       "4104  0.028076  15.591126  41.708202      16621      0         3.401197   4104\n",
       "4105  0.069568  10.516364  35.707095      17064      0         3.401197   4105\n",
       "4106  0.056229   9.167122  40.157580      15822      0         3.401197   4106\n",
       "\n",
       "[4107 rows x 7 columns]"
      ],
      "text/html": [
       "<div>\n",
       "<style scoped>\n",
       "    .dataframe tbody tr th:only-of-type {\n",
       "        vertical-align: middle;\n",
       "    }\n",
       "\n",
       "    .dataframe tbody tr th {\n",
       "        vertical-align: top;\n",
       "    }\n",
       "\n",
       "    .dataframe thead th {\n",
       "        text-align: right;\n",
       "    }\n",
       "</style>\n",
       "<table border=\"1\" class=\"dataframe\">\n",
       "  <thead>\n",
       "    <tr style=\"text-align: right;\">\n",
       "      <th></th>\n",
       "      <th>prob</th>\n",
       "      <th>lat</th>\n",
       "      <th>lon</th>\n",
       "      <th>sample_id</th>\n",
       "      <th>label</th>\n",
       "      <th>log_burned_area</th>\n",
       "      <th>index</th>\n",
       "    </tr>\n",
       "  </thead>\n",
       "  <tbody>\n",
       "    <tr>\n",
       "      <th>0</th>\n",
       "      <td>0.886618</td>\n",
       "      <td>-7.033854</td>\n",
       "      <td>40.983236</td>\n",
       "      <td>728</td>\n",
       "      <td>1</td>\n",
       "      <td>5.056246</td>\n",
       "      <td>0</td>\n",
       "    </tr>\n",
       "    <tr>\n",
       "      <th>1</th>\n",
       "      <td>0.002440</td>\n",
       "      <td>11.563537</td>\n",
       "      <td>43.399789</td>\n",
       "      <td>16438</td>\n",
       "      <td>0</td>\n",
       "      <td>3.401197</td>\n",
       "      <td>1</td>\n",
       "    </tr>\n",
       "    <tr>\n",
       "      <th>2</th>\n",
       "      <td>0.276308</td>\n",
       "      <td>-5.724887</td>\n",
       "      <td>34.649853</td>\n",
       "      <td>17300</td>\n",
       "      <td>0</td>\n",
       "      <td>3.401197</td>\n",
       "      <td>2</td>\n",
       "    </tr>\n",
       "    <tr>\n",
       "      <th>3</th>\n",
       "      <td>0.023041</td>\n",
       "      <td>34.802724</td>\n",
       "      <td>37.318130</td>\n",
       "      <td>15725</td>\n",
       "      <td>0</td>\n",
       "      <td>3.401197</td>\n",
       "      <td>3</td>\n",
       "    </tr>\n",
       "    <tr>\n",
       "      <th>4</th>\n",
       "      <td>0.007572</td>\n",
       "      <td>-4.526680</td>\n",
       "      <td>40.983236</td>\n",
       "      <td>15141</td>\n",
       "      <td>0</td>\n",
       "      <td>3.401197</td>\n",
       "      <td>4</td>\n",
       "    </tr>\n",
       "    <tr>\n",
       "      <th>...</th>\n",
       "      <td>...</td>\n",
       "      <td>...</td>\n",
       "      <td>...</td>\n",
       "      <td>...</td>\n",
       "      <td>...</td>\n",
       "      <td>...</td>\n",
       "      <td>...</td>\n",
       "    </tr>\n",
       "    <tr>\n",
       "      <th>4102</th>\n",
       "      <td>0.000312</td>\n",
       "      <td>30.040100</td>\n",
       "      <td>38.425717</td>\n",
       "      <td>16004</td>\n",
       "      <td>0</td>\n",
       "      <td>3.401197</td>\n",
       "      <td>4102</td>\n",
       "    </tr>\n",
       "    <tr>\n",
       "      <th>4103</th>\n",
       "      <td>0.981715</td>\n",
       "      <td>19.356921</td>\n",
       "      <td>42.493582</td>\n",
       "      <td>6028</td>\n",
       "      <td>1</td>\n",
       "      <td>5.886104</td>\n",
       "      <td>4103</td>\n",
       "    </tr>\n",
       "    <tr>\n",
       "      <th>4104</th>\n",
       "      <td>0.028076</td>\n",
       "      <td>15.591126</td>\n",
       "      <td>41.708202</td>\n",
       "      <td>16621</td>\n",
       "      <td>0</td>\n",
       "      <td>3.401197</td>\n",
       "      <td>4104</td>\n",
       "    </tr>\n",
       "    <tr>\n",
       "      <th>4105</th>\n",
       "      <td>0.069568</td>\n",
       "      <td>10.516364</td>\n",
       "      <td>35.707095</td>\n",
       "      <td>17064</td>\n",
       "      <td>0</td>\n",
       "      <td>3.401197</td>\n",
       "      <td>4105</td>\n",
       "    </tr>\n",
       "    <tr>\n",
       "      <th>4106</th>\n",
       "      <td>0.056229</td>\n",
       "      <td>9.167122</td>\n",
       "      <td>40.157580</td>\n",
       "      <td>15822</td>\n",
       "      <td>0</td>\n",
       "      <td>3.401197</td>\n",
       "      <td>4106</td>\n",
       "    </tr>\n",
       "  </tbody>\n",
       "</table>\n",
       "<p>4107 rows × 7 columns</p>\n",
       "</div>"
      ]
     },
     "execution_count": 56,
     "metadata": {},
     "output_type": "execute_result"
    }
   ],
   "execution_count": 56
  },
  {
   "metadata": {
    "ExecuteTime": {
     "end_time": "2025-06-12T15:24:45.642029Z",
     "start_time": "2025-06-12T15:24:45.629307Z"
    }
   },
   "cell_type": "code",
   "source": [
    "pos = df[df['label'] ==1]\n",
    "pos"
   ],
   "id": "6770e10be0ff3283",
   "outputs": [
    {
     "data": {
      "text/plain": [
       "          prob        lat        lon  sample_id  label  log_burned_area  index\n",
       "0     0.886618  -7.033854  40.983236        728      1         5.056246      0\n",
       "8     0.605983   8.341466  35.183508       8372      1         5.476463      8\n",
       "12    0.980295  12.953055  41.587374       3685      1         3.988984     12\n",
       "30    0.971927  17.151817  40.590546       3013      1         3.610918     30\n",
       "38    0.978868   8.301190  36.693854       8509      1         5.356586     38\n",
       "...        ...        ...        ...        ...    ...              ...    ...\n",
       "4091  0.113981  -6.218267  41.899512       1645      1        10.241601   4091\n",
       "4097  0.979037  -6.892888  42.423099       1612      1         5.267858   4097\n",
       "4100  0.864642   8.925467  35.113025       8348      1         4.406719   4100\n",
       "4101  0.996553  -5.583922  35.304336       8466      1         9.032290   4101\n",
       "4103  0.981715  19.356921  42.493582       6028      1         5.886104   4103\n",
       "\n",
       "[1369 rows x 7 columns]"
      ],
      "text/html": [
       "<div>\n",
       "<style scoped>\n",
       "    .dataframe tbody tr th:only-of-type {\n",
       "        vertical-align: middle;\n",
       "    }\n",
       "\n",
       "    .dataframe tbody tr th {\n",
       "        vertical-align: top;\n",
       "    }\n",
       "\n",
       "    .dataframe thead th {\n",
       "        text-align: right;\n",
       "    }\n",
       "</style>\n",
       "<table border=\"1\" class=\"dataframe\">\n",
       "  <thead>\n",
       "    <tr style=\"text-align: right;\">\n",
       "      <th></th>\n",
       "      <th>prob</th>\n",
       "      <th>lat</th>\n",
       "      <th>lon</th>\n",
       "      <th>sample_id</th>\n",
       "      <th>label</th>\n",
       "      <th>log_burned_area</th>\n",
       "      <th>index</th>\n",
       "    </tr>\n",
       "  </thead>\n",
       "  <tbody>\n",
       "    <tr>\n",
       "      <th>0</th>\n",
       "      <td>0.886618</td>\n",
       "      <td>-7.033854</td>\n",
       "      <td>40.983236</td>\n",
       "      <td>728</td>\n",
       "      <td>1</td>\n",
       "      <td>5.056246</td>\n",
       "      <td>0</td>\n",
       "    </tr>\n",
       "    <tr>\n",
       "      <th>8</th>\n",
       "      <td>0.605983</td>\n",
       "      <td>8.341466</td>\n",
       "      <td>35.183508</td>\n",
       "      <td>8372</td>\n",
       "      <td>1</td>\n",
       "      <td>5.476463</td>\n",
       "      <td>8</td>\n",
       "    </tr>\n",
       "    <tr>\n",
       "      <th>12</th>\n",
       "      <td>0.980295</td>\n",
       "      <td>12.953055</td>\n",
       "      <td>41.587374</td>\n",
       "      <td>3685</td>\n",
       "      <td>1</td>\n",
       "      <td>3.988984</td>\n",
       "      <td>12</td>\n",
       "    </tr>\n",
       "    <tr>\n",
       "      <th>30</th>\n",
       "      <td>0.971927</td>\n",
       "      <td>17.151817</td>\n",
       "      <td>40.590546</td>\n",
       "      <td>3013</td>\n",
       "      <td>1</td>\n",
       "      <td>3.610918</td>\n",
       "      <td>30</td>\n",
       "    </tr>\n",
       "    <tr>\n",
       "      <th>38</th>\n",
       "      <td>0.978868</td>\n",
       "      <td>8.301190</td>\n",
       "      <td>36.693854</td>\n",
       "      <td>8509</td>\n",
       "      <td>1</td>\n",
       "      <td>5.356586</td>\n",
       "      <td>38</td>\n",
       "    </tr>\n",
       "    <tr>\n",
       "      <th>...</th>\n",
       "      <td>...</td>\n",
       "      <td>...</td>\n",
       "      <td>...</td>\n",
       "      <td>...</td>\n",
       "      <td>...</td>\n",
       "      <td>...</td>\n",
       "      <td>...</td>\n",
       "    </tr>\n",
       "    <tr>\n",
       "      <th>4091</th>\n",
       "      <td>0.113981</td>\n",
       "      <td>-6.218267</td>\n",
       "      <td>41.899512</td>\n",
       "      <td>1645</td>\n",
       "      <td>1</td>\n",
       "      <td>10.241601</td>\n",
       "      <td>4091</td>\n",
       "    </tr>\n",
       "    <tr>\n",
       "      <th>4097</th>\n",
       "      <td>0.979037</td>\n",
       "      <td>-6.892888</td>\n",
       "      <td>42.423099</td>\n",
       "      <td>1612</td>\n",
       "      <td>1</td>\n",
       "      <td>5.267858</td>\n",
       "      <td>4097</td>\n",
       "    </tr>\n",
       "    <tr>\n",
       "      <th>4100</th>\n",
       "      <td>0.864642</td>\n",
       "      <td>8.925467</td>\n",
       "      <td>35.113025</td>\n",
       "      <td>8348</td>\n",
       "      <td>1</td>\n",
       "      <td>4.406719</td>\n",
       "      <td>4100</td>\n",
       "    </tr>\n",
       "    <tr>\n",
       "      <th>4101</th>\n",
       "      <td>0.996553</td>\n",
       "      <td>-5.583922</td>\n",
       "      <td>35.304336</td>\n",
       "      <td>8466</td>\n",
       "      <td>1</td>\n",
       "      <td>9.032290</td>\n",
       "      <td>4101</td>\n",
       "    </tr>\n",
       "    <tr>\n",
       "      <th>4103</th>\n",
       "      <td>0.981715</td>\n",
       "      <td>19.356921</td>\n",
       "      <td>42.493582</td>\n",
       "      <td>6028</td>\n",
       "      <td>1</td>\n",
       "      <td>5.886104</td>\n",
       "      <td>4103</td>\n",
       "    </tr>\n",
       "  </tbody>\n",
       "</table>\n",
       "<p>1369 rows × 7 columns</p>\n",
       "</div>"
      ]
     },
     "execution_count": 59,
     "metadata": {},
     "output_type": "execute_result"
    }
   ],
   "execution_count": 59
  },
  {
   "metadata": {
    "ExecuteTime": {
     "end_time": "2025-06-12T15:25:12.652400Z",
     "start_time": "2025-06-12T15:25:12.630064Z"
    }
   },
   "cell_type": "code",
   "source": [
    "neg = df[df['label'] ==0]\n",
    "neg"
   ],
   "id": "b75d38f948574650",
   "outputs": [
    {
     "data": {
      "text/plain": [
       "          prob        lat        lon  sample_id  label  log_burned_area  index\n",
       "1     0.002440  11.563537  43.399789      16438      0         3.401197      1\n",
       "2     0.276308  -5.724887  34.649853      17300      0         3.401197      2\n",
       "3     0.023041  34.802724  37.318130      15725      0         3.401197      3\n",
       "4     0.007572  -4.526680  40.983236      15141      0         3.401197      4\n",
       "5     0.490169  -3.207644  40.610684      16716      0         3.401197      5\n",
       "...        ...        ...        ...        ...    ...              ...    ...\n",
       "4099  0.391554  -3.358679  38.284751      15434      0         3.401197   4099\n",
       "4102  0.000312  30.040100  38.425717      16004      0         3.401197   4102\n",
       "4104  0.028076  15.591126  41.708202      16621      0         3.401197   4104\n",
       "4105  0.069568  10.516364  35.707095      17064      0         3.401197   4105\n",
       "4106  0.056229   9.167122  40.157580      15822      0         3.401197   4106\n",
       "\n",
       "[2738 rows x 7 columns]"
      ],
      "text/html": [
       "<div>\n",
       "<style scoped>\n",
       "    .dataframe tbody tr th:only-of-type {\n",
       "        vertical-align: middle;\n",
       "    }\n",
       "\n",
       "    .dataframe tbody tr th {\n",
       "        vertical-align: top;\n",
       "    }\n",
       "\n",
       "    .dataframe thead th {\n",
       "        text-align: right;\n",
       "    }\n",
       "</style>\n",
       "<table border=\"1\" class=\"dataframe\">\n",
       "  <thead>\n",
       "    <tr style=\"text-align: right;\">\n",
       "      <th></th>\n",
       "      <th>prob</th>\n",
       "      <th>lat</th>\n",
       "      <th>lon</th>\n",
       "      <th>sample_id</th>\n",
       "      <th>label</th>\n",
       "      <th>log_burned_area</th>\n",
       "      <th>index</th>\n",
       "    </tr>\n",
       "  </thead>\n",
       "  <tbody>\n",
       "    <tr>\n",
       "      <th>1</th>\n",
       "      <td>0.002440</td>\n",
       "      <td>11.563537</td>\n",
       "      <td>43.399789</td>\n",
       "      <td>16438</td>\n",
       "      <td>0</td>\n",
       "      <td>3.401197</td>\n",
       "      <td>1</td>\n",
       "    </tr>\n",
       "    <tr>\n",
       "      <th>2</th>\n",
       "      <td>0.276308</td>\n",
       "      <td>-5.724887</td>\n",
       "      <td>34.649853</td>\n",
       "      <td>17300</td>\n",
       "      <td>0</td>\n",
       "      <td>3.401197</td>\n",
       "      <td>2</td>\n",
       "    </tr>\n",
       "    <tr>\n",
       "      <th>3</th>\n",
       "      <td>0.023041</td>\n",
       "      <td>34.802724</td>\n",
       "      <td>37.318130</td>\n",
       "      <td>15725</td>\n",
       "      <td>0</td>\n",
       "      <td>3.401197</td>\n",
       "      <td>3</td>\n",
       "    </tr>\n",
       "    <tr>\n",
       "      <th>4</th>\n",
       "      <td>0.007572</td>\n",
       "      <td>-4.526680</td>\n",
       "      <td>40.983236</td>\n",
       "      <td>15141</td>\n",
       "      <td>0</td>\n",
       "      <td>3.401197</td>\n",
       "      <td>4</td>\n",
       "    </tr>\n",
       "    <tr>\n",
       "      <th>5</th>\n",
       "      <td>0.490169</td>\n",
       "      <td>-3.207644</td>\n",
       "      <td>40.610684</td>\n",
       "      <td>16716</td>\n",
       "      <td>0</td>\n",
       "      <td>3.401197</td>\n",
       "      <td>5</td>\n",
       "    </tr>\n",
       "    <tr>\n",
       "      <th>...</th>\n",
       "      <td>...</td>\n",
       "      <td>...</td>\n",
       "      <td>...</td>\n",
       "      <td>...</td>\n",
       "      <td>...</td>\n",
       "      <td>...</td>\n",
       "      <td>...</td>\n",
       "    </tr>\n",
       "    <tr>\n",
       "      <th>4099</th>\n",
       "      <td>0.391554</td>\n",
       "      <td>-3.358679</td>\n",
       "      <td>38.284751</td>\n",
       "      <td>15434</td>\n",
       "      <td>0</td>\n",
       "      <td>3.401197</td>\n",
       "      <td>4099</td>\n",
       "    </tr>\n",
       "    <tr>\n",
       "      <th>4102</th>\n",
       "      <td>0.000312</td>\n",
       "      <td>30.040100</td>\n",
       "      <td>38.425717</td>\n",
       "      <td>16004</td>\n",
       "      <td>0</td>\n",
       "      <td>3.401197</td>\n",
       "      <td>4102</td>\n",
       "    </tr>\n",
       "    <tr>\n",
       "      <th>4104</th>\n",
       "      <td>0.028076</td>\n",
       "      <td>15.591126</td>\n",
       "      <td>41.708202</td>\n",
       "      <td>16621</td>\n",
       "      <td>0</td>\n",
       "      <td>3.401197</td>\n",
       "      <td>4104</td>\n",
       "    </tr>\n",
       "    <tr>\n",
       "      <th>4105</th>\n",
       "      <td>0.069568</td>\n",
       "      <td>10.516364</td>\n",
       "      <td>35.707095</td>\n",
       "      <td>17064</td>\n",
       "      <td>0</td>\n",
       "      <td>3.401197</td>\n",
       "      <td>4105</td>\n",
       "    </tr>\n",
       "    <tr>\n",
       "      <th>4106</th>\n",
       "      <td>0.056229</td>\n",
       "      <td>9.167122</td>\n",
       "      <td>40.157580</td>\n",
       "      <td>15822</td>\n",
       "      <td>0</td>\n",
       "      <td>3.401197</td>\n",
       "      <td>4106</td>\n",
       "    </tr>\n",
       "  </tbody>\n",
       "</table>\n",
       "<p>2738 rows × 7 columns</p>\n",
       "</div>"
      ]
     },
     "execution_count": 60,
     "metadata": {},
     "output_type": "execute_result"
    }
   ],
   "execution_count": 60
  },
  {
   "metadata": {},
   "cell_type": "code",
   "outputs": [],
   "execution_count": null,
   "source": "",
   "id": "6b90537275a997d5"
  }
 ],
 "metadata": {
  "kernelspec": {
   "display_name": "Python 3",
   "language": "python",
   "name": "python3"
  },
  "language_info": {
   "codemirror_mode": {
    "name": "ipython",
    "version": 2
   },
   "file_extension": ".py",
   "mimetype": "text/x-python",
   "name": "python",
   "nbconvert_exporter": "python",
   "pygments_lexer": "ipython2",
   "version": "2.7.6"
  }
 },
 "nbformat": 4,
 "nbformat_minor": 5
}
